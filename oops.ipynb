{
  "nbformat": 4,
  "nbformat_minor": 0,
  "metadata": {
    "colab": {
      "provenance": []
    },
    "kernelspec": {
      "name": "python3",
      "display_name": "Python 3"
    },
    "language_info": {
      "name": "python"
    }
  },
  "cells": [
    {
      "cell_type": "markdown",
      "source": [
        "# 1. What is Object-Oriented Programming (OOP)?\n",
        "\n",
        "Object-Oriented Programming (OOP) is a programming paradigm based on the concept of objects.\n",
        "Objects represent real-world entities and are instances of classes. OOP focuses on organizing\n",
        "code around these objects and the methods that interact with them. Key concepts in OOP include\n",
        "Encapsulation, Abstraction, Inheritance, and Polymorphism.\n",
        "\n",
        "\n",
        "# 2. What is a class in OOP?\n",
        "\n",
        "A class in OOP is a blueprint for creating objects (instances). It defines the attributes and behaviors\n",
        "(that is, properties and methods) that the objects created from the class will have. A class serves as a\n",
        "template for the objects of that type.\n",
        "\n",
        "\n",
        "# 3. What is an object in OOP?\n",
        "\n",
        "An object is an instance of a class. It is a real-world entity that holds data in the form of attributes\n",
        "and has behavior defined by methods. Objects are created from classes, and each object has its own unique state.\n",
        "\n",
        "\n",
        "# 4. What is the difference between abstraction and encapsulation?\n",
        "\n",
        "- Abstraction: Hides the complex implementation details and shows only the necessary features of the object.\n",
        "  For example, a car’s user interface hides the internal working mechanism, but only exposes controls to drive the car.\n",
        "  \n",
        "- Encapsulation: Involves bundling the data (attributes) and methods (functions) that operate on the data\n",
        "  within a single unit (class) and restricting access to some of the object's components. This is often done\n",
        "  through private/protected attributes and getter/setter methods.\n",
        "\n",
        "\n",
        "# 5. What are dunder methods in Python?\n",
        "\n",
        "Dunder methods, or \"magic methods\", are special methods in Python that start and end with double underscores,\n",
        "e.g., `__init__`, `__str__`, and `__add__`. These methods enable you to define the behavior of objects\n",
        "for various built-in operations like initialization, string representation, arithmetic operations, etc.\n",
        "\n",
        "\n",
        "# 6. Explain the concept of inheritance in OOP\n",
        "\n",
        "Inheritance is a mechanism in OOP where a new class (child or subclass) inherits the properties and behaviors\n",
        "from an existing class (parent or superclass). This allows the child class to reuse code, extend functionality,\n",
        "and modify or override behavior without changing the parent class.\n",
        "\n",
        "\n",
        "# 7. What is polymorphism in OOP?\n",
        "\n",
        "Polymorphism is the ability to use a single interface or method to represent different types. It allows objects\n",
        "of different classes to respond to the same method in a way that is appropriate to their class. This can be achieved\n",
        "through method overriding or method overloading.\n",
        "\n",
        "\n",
        "# 8. How is encapsulation achieved in Python?\n",
        "\n",
        "Encapsulation is achieved in Python by defining classes with attributes and methods, and controlling access\n",
        "to these attributes using access specifiers such as public, protected, or private. The private attributes are\n",
        "usually prefixed with an underscore (`_`) or double underscore (`__`) to indicate that they should not be accessed directly.\n",
        "\n",
        "\n",
        "# 9. What is a constructor in Python?\n",
        "\n",
        "A constructor in Python is a special method called `__init__()` that is used to initialize the attributes\n",
        "of an object when it is created. The `__init__` method is automatically called when an object is instantiated.\n",
        "\n",
        "\n",
        "# 10. What are class and static methods in Python?\n",
        "\n",
        "- Class method: A method that is bound to the class rather than the instance. It is defined using the `@classmethod` decorator\n",
        "  and takes `cls` as the first parameter.\n",
        "  \n",
        "- Static method: A method that doesn't modify class or instance state. It is defined using the `@staticmethod` decorator\n",
        "  and doesn't take `self` or `cls` as the first parameter. It behaves like a regular function but belongs to the class.\n",
        "\n",
        "\n",
        "# 11. What is method overloading in Python?\n",
        "\n",
        "Python does not support method overloading directly as some other languages do. However, you can achieve similar behavior\n",
        "by using default arguments or variable-length arguments (`*args`, `**kwargs`) in methods to handle multiple argument types.\n",
        "\n",
        "\n",
        "# 12. What is method overriding in OOP?\n",
        "\n",
        "Method overriding occurs when a subclass provides a specific implementation for a method that is already defined in its parent class.\n",
        "The subclass version of the method overrides the parent class version and is called when invoked on an instance of the subclass.\n",
        "\n",
        "\n",
        "# 13. What is a property decorator in Python?\n",
        "\n",
        "The `@property` decorator in Python allows you to define a method that behaves like an attribute. It provides a way to access\n",
        "attributes with getter, setter, and deleter methods, while keeping the syntax clean and intuitive.\n",
        "\n",
        "\n",
        "# 14. Why is polymorphism important in OOP?\n",
        "\n",
        "Polymorphism allows for flexibility and scalability in the code. It enables objects of different classes to be treated\n",
        "uniformly, reduces code duplication, and allows code to be written in a more generic and extensible manner.\n",
        "\n",
        "\n",
        "# 15. What is an abstract class in Python?\n",
        "\n",
        "An abstract class is a class that cannot be instantiated and is meant to be subclassed. It may contain abstract methods\n",
        "(that have no implementation) which must be implemented by its subclasses. Abstract classes are defined using the\n",
        "`abc` module in Python.\n",
        "\n",
        "\n",
        "# 16. What are the advantages of OOP?\n",
        "\n",
        "- Modularity: OOP allows for modular code, where classes are independent units that can be reused.\n",
        "- Code Reusability: Through inheritance, subclasses can reuse code from the parent class.\n",
        "- Flexibility and Maintenance: Polymorphism and inheritance provide flexibility and make code easier to maintain and update.\n",
        "- Encapsulation: Keeps data safe from unauthorized access and misuse.\n",
        "\n",
        "\n",
        "# 17. What is the difference between a class variable and an instance variable?\n",
        "\n",
        "- Class Variable: A variable that is shared by all instances of a class. It is defined within the class but outside any methods.\n",
        "- Instance Variable: A variable that is specific to an instance of a class. It is defined within methods and is unique to each object.\n",
        "\n",
        "\n",
        "# 18. What is multiple inheritance in Python?\n",
        "\n",
        "Multiple inheritance is the ability of a class to inherit from more than one parent class. In Python, a class can\n",
        "inherit from multiple classes, and the method resolution order (MRO) determines the order in which methods are inherited.\n",
        "\n",
        "\n",
        "# 19. Explain the purpose of `__str__` and `__repr__` methods in Python\n",
        "\n",
        "- `__str__`: This method is used to define the string representation of an object, which is user-friendly. It is\n",
        "  called by `print()` and `str()`.\n",
        "  \n",
        "- `__repr__`: This method defines a more formal string representation of an object, meant for debugging. It is called by `repr()`\n",
        "  and should return a string that could recreate the object.\n",
        "\n",
        "\n",
        "# 20. What is the significance of the `super()` function in Python?\n",
        "\n",
        "The `super()` function is used to call methods from a parent class in a subclass. It allows you to call the parent class's\n",
        "constructor or methods, which helps to extend or override functionality without repeating the code.\n",
        "\n",
        "\n",
        "# 21. What is the significance of the `__del__` method in Python?\n",
        "\n",
        "The `__del__` method is a destructor in Python. It is called when an object is about to be destroyed. It is used to clean\n",
        "up resources like closing files or network connections before the object is removed from memory.\n",
        "\n",
        "\n",
        "# 22. What is the difference between `@staticmethod` and `@classmethod` in Python?\n",
        "\n",
        "- `@staticmethod`: Used to define a method that doesn't need access to the class or instance. It is like a regular function\n",
        "  that belongs to the class.\n",
        "  \n",
        "- `@classmethod`: Used to define a method that takes the class itself as the first argument (usually `cls`). It can access and\n",
        "  modify the class state.\n",
        "\n",
        "\n",
        "# 23. How does polymorphism work in Python with inheritance?\n",
        "\n",
        "In Python, polymorphism works by allowing methods in a subclass to have the same name as methods in the parent class.\n",
        "When called on a subclass object, the method from the subclass is executed, even if the method name is the same in the parent class.\n",
        "\n",
        "\n",
        "# 24. What is method chaining in Python OOP?\n",
        "\n",
        "Method chaining is the practice of calling multiple methods on the same object in a single line of code. This is achieved\n",
        "by ensuring that each method returns the object itself (`self`), allowing for multiple method calls to be linked together.\n",
        "\n",
        "\n",
        "# 25. What is the purpose of the `__call__` method in Python?\n",
        "\n",
        "The `__call__` method in Python allows an instance of a class to be called like a function. When an object is called,\n",
        "the `__call__` method is invoked, enabling custom behavior when an object is called directly.\n"
      ],
      "metadata": {
        "id": "uuBHpu_vRIgC"
      }
    },
    {
      "cell_type": "code",
      "source": [
        "# 1. Parent class Animal with method speak() and child class Dog that overrides speak()\n",
        "animal = Animal()\n",
        "animal.speak()\n",
        "dog = Dog()\n",
        "dog.speak()"
      ],
      "metadata": {
        "colab": {
          "base_uri": "https://localhost:8080/"
        },
        "id": "zkP7lcaARsQy",
        "outputId": "b406bb50-db54-45e1-9da9-c5b967fa5e29"
      },
      "execution_count": null,
      "outputs": [
        {
          "output_type": "stream",
          "name": "stdout",
          "text": [
            "This is an animal speaking\n",
            "Bark!\n"
          ]
        }
      ]
    },
    {
      "cell_type": "code",
      "source": [
        "# 2. Abstract class Shape with method area() and derived classes Circle and Rectangle\n",
        "from abc import ABC, abstractmethod\n",
        "import math\n",
        "\n",
        "class Shape(ABC):\n",
        "    @abstractmethod\n",
        "    def area(self):\n",
        "        pass\n",
        "\n",
        "class Circle(Shape):\n",
        "    def __init__(self, radius):\n",
        "        self.radius = radius\n",
        "\n",
        "    def area(self):\n",
        "        return math.pi * (self.radius ** 2)\n",
        "\n",
        "class Rectangle(Shape):\n",
        "    def __init__(self, width, height):\n",
        "        self.width = width\n",
        "        self.height = height\n",
        "\n",
        "    def area(self):\n",
        "        return self.width * self.height\n",
        "\n",
        "# Example usage:\n",
        "circle = Circle(5)\n",
        "print(circle.area())  # Output: Area of the circle\n",
        "\n",
        "rectangle = Rectangle(4, 6)\n",
        "print(rectangle.area())  # Output: Area of the rectangle\n"
      ],
      "metadata": {
        "colab": {
          "base_uri": "https://localhost:8080/"
        },
        "id": "X8F4GyetUMTX",
        "outputId": "50bb806b-ec58-44f9-ac91-829b78e7604f"
      },
      "execution_count": null,
      "outputs": [
        {
          "output_type": "stream",
          "name": "stdout",
          "text": [
            "78.53981633974483\n",
            "24\n"
          ]
        }
      ]
    },
    {
      "cell_type": "code",
      "source": [
        "# 3. Multi-level inheritance: Vehicle -> Car -> ElectricCar\n",
        "\n",
        "class Vehicle:\n",
        "    def __init__(self, type):\n",
        "        self.type = type\n",
        "\n",
        "class Car(Vehicle):\n",
        "    def __init__(self, type, model):\n",
        "        super().__init__(type)\n",
        "        self.model = model\n",
        "\n",
        "class ElectricCar(Car):\n",
        "    def __init__(self, type, model, battery_capacity):\n",
        "        super().__init__(type, model)\n",
        "        self.battery_capacity = battery_capacity\n",
        "\n",
        "# Example usage:\n",
        "electric_car = ElectricCar(\"Electric\", \"Tesla\", 100)\n",
        "print(f\"Type: {electric_car.type}, Model: {electric_car.model}, Battery: {electric_car.battery_capacity}kWh\")"
      ],
      "metadata": {
        "colab": {
          "base_uri": "https://localhost:8080/"
        },
        "id": "vlEIlCXCUPm6",
        "outputId": "7083c036-190f-4a69-9198-3614c7dcc1e2"
      },
      "execution_count": null,
      "outputs": [
        {
          "output_type": "stream",
          "name": "stdout",
          "text": [
            "Type: Electric, Model: Tesla, Battery: 100kWh\n"
          ]
        }
      ]
    },
    {
      "cell_type": "code",
      "source": [
        "# 5. Demonstrating encapsulation with a BankAccount class\n",
        "\n",
        "class BankAccount:\n",
        "    def __init__(self, balance=0):\n",
        "        self.__balance = balance  # private attribute\n",
        "\n",
        "    def deposit(self, amount):\n",
        "        if amount > 0:\n",
        "            self.__balance += amount\n",
        "\n",
        "    def withdraw(self, amount):\n",
        "        if 0 < amount <= self.__balance:\n",
        "            self.__balance -= amount\n",
        "\n",
        "    def check_balance(self):\n",
        "        return self.__balance\n",
        "\n",
        "# Example usage:\n",
        "account = BankAccount(1000)\n",
        "account.deposit(500)\n",
        "account.withdraw(200)\n",
        "print(account.check_balance())  # Output: 1300"
      ],
      "metadata": {
        "colab": {
          "base_uri": "https://localhost:8080/"
        },
        "id": "w4I_mjJ_WDh4",
        "outputId": "39b86486-35b6-4d1a-feae-6b6c3eea253a"
      },
      "execution_count": null,
      "outputs": [
        {
          "output_type": "stream",
          "name": "stdout",
          "text": [
            "1300\n"
          ]
        }
      ]
    },
    {
      "cell_type": "code",
      "source": [
        "# 6. Runtime polymorphism using play() method\n",
        "\n",
        "class Instrument:\n",
        "    def play(self):\n",
        "        print(\"Playing an instrument\")\n",
        "\n",
        "class Guitar(Instrument):\n",
        "    def play(self):\n",
        "        print(\"Playing guitar\")\n",
        "\n",
        "class Piano(Instrument):\n",
        "    def play(self):\n",
        "        print(\"Playing piano\")\n",
        "\n",
        "# Example usage:\n",
        "instrument = Instrument()\n",
        "instrument.play()  # Output: Playing an instrument\n",
        "\n",
        "guitar = Guitar()\n",
        "guitar.play()  # Output: Playing guitar\n",
        "\n",
        "piano = Piano()\n",
        "piano.play()  # Output: Playing piano"
      ],
      "metadata": {
        "colab": {
          "base_uri": "https://localhost:8080/"
        },
        "id": "irF3Vbw_WSMJ",
        "outputId": "5454ae08-76b4-47c8-c6c9-66486f932761"
      },
      "execution_count": null,
      "outputs": [
        {
          "output_type": "stream",
          "name": "stdout",
          "text": [
            "Playing an instrument\n",
            "Playing guitar\n",
            "Playing piano\n"
          ]
        }
      ]
    },
    {
      "cell_type": "code",
      "source": [
        "# 7. MathOperations class with class method and static method\n",
        "\n",
        "class MathOperations:\n",
        "    @classmethod\n",
        "    def add_numbers(cls, a, b):\n",
        "        return a + b\n",
        "\n",
        "    @staticmethod\n",
        "    def subtract_numbers(a, b):\n",
        "        return a - b\n",
        "\n",
        "# Example usage:\n",
        "print(MathOperations.add_numbers(5, 3))  # Output: 8\n",
        "print(MathOperations.subtract_numbers(5, 3))  # Output: 2"
      ],
      "metadata": {
        "colab": {
          "base_uri": "https://localhost:8080/"
        },
        "id": "l5mFvwPUWZva",
        "outputId": "7cd8ccc7-0ad8-4fd2-e4cd-d6cbb048e623"
      },
      "execution_count": null,
      "outputs": [
        {
          "output_type": "stream",
          "name": "stdout",
          "text": [
            "8\n",
            "2\n"
          ]
        }
      ]
    },
    {
      "cell_type": "code",
      "source": [
        "# 8. Person class with class method to count persons created\n",
        "\n",
        "class Person:\n",
        "    count = 0\n",
        "\n",
        "    def __init__(self, name):\n",
        "        self.name = name\n",
        "        Person.count += 1\n",
        "\n",
        "    @classmethod\n",
        "    def get_person_count(cls):\n",
        "        return cls.count\n",
        "\n",
        "# Example usage:\n",
        "person1 = Person(\"Alice\")\n",
        "person2 = Person(\"Bob\")\n",
        "print(Person.get_person_count())  # Output: 2"
      ],
      "metadata": {
        "colab": {
          "base_uri": "https://localhost:8080/"
        },
        "id": "NZAUd8KzWehL",
        "outputId": "06e8242f-ac15-469e-ff0b-188a60600455"
      },
      "execution_count": null,
      "outputs": [
        {
          "output_type": "stream",
          "name": "stdout",
          "text": [
            "2\n"
          ]
        }
      ]
    },
    {
      "cell_type": "code",
      "source": [
        "# 9. Fraction class with overridden __str__ method\n",
        "\n",
        "class Fraction:\n",
        "    def __init__(self, numerator, denominator):\n",
        "        self.numerator = numerator\n",
        "        self.denominator = denominator\n",
        "\n",
        "    def __str__(self):\n",
        "        return f\"{self.numerator}/{self.denominator}\"\n",
        "\n",
        "# Example usage:\n",
        "fraction = Fraction(3, 4)\n",
        "print(fraction)  # Output: 3/4"
      ],
      "metadata": {
        "colab": {
          "base_uri": "https://localhost:8080/"
        },
        "id": "pTI1ZNBvWnSF",
        "outputId": "6e8aaa3b-90c9-47ad-92aa-5f4c9d4a61ec"
      },
      "execution_count": null,
      "outputs": [
        {
          "output_type": "stream",
          "name": "stdout",
          "text": [
            "3/4\n"
          ]
        }
      ]
    },
    {
      "cell_type": "code",
      "source": [
        "# 10. Demonstrating operator overloading by creating Vector class\n",
        "\n",
        "class Vector:\n",
        "    def __init__(self, x, y):\n",
        "        self.x = x\n",
        "        self.y = y\n",
        "\n",
        "    def __add__(self, other):\n",
        "        return Vector(self.x + other.x, self.y + other.y)\n",
        "\n",
        "    def __repr__(self):\n",
        "        return f\"Vector({self.x}, {self.y})\"\n",
        "\n",
        "# Example usage:\n",
        "v1 = Vector(2, 3)\n",
        "v2 = Vector(4, 5)\n",
        "result = v1 + v2\n",
        "print(result)  # Output: Vector(6, 8)"
      ],
      "metadata": {
        "colab": {
          "base_uri": "https://localhost:8080/"
        },
        "id": "gzyMRHqFWsWi",
        "outputId": "658eeeba-40d0-4eb5-fa21-f38076d4bc0f"
      },
      "execution_count": null,
      "outputs": [
        {
          "output_type": "stream",
          "name": "stdout",
          "text": [
            "Vector(6, 8)\n"
          ]
        }
      ]
    },
    {
      "cell_type": "code",
      "source": [
        "# 11. Person class with greet() method\n",
        "\n",
        "class Person:\n",
        "    def __init__(self, name, age):\n",
        "        self.name = name\n",
        "        self.age = age\n",
        "\n",
        "    def greet(self):\n",
        "        print(f\"Hello, my name is {self.name} and I am {self.age} years old.\")\n",
        "\n",
        "# Example usage:\n",
        "person = Person(\"Alice\", 25)\n",
        "person.greet()  # Output: Hello, my name is Alice and I am 25 years old."
      ],
      "metadata": {
        "colab": {
          "base_uri": "https://localhost:8080/"
        },
        "id": "IBILeFGxWxjH",
        "outputId": "c6e4a23a-b6f6-44b9-e3b4-e701fc757603"
      },
      "execution_count": null,
      "outputs": [
        {
          "output_type": "stream",
          "name": "stdout",
          "text": [
            "Hello, my name is Alice and I am 25 years old.\n"
          ]
        }
      ]
    },
    {
      "cell_type": "code",
      "source": [
        "# 12. Student class with method to compute average grade\n",
        "\n",
        "class Student:\n",
        "    def __init__(self, name, grades):\n",
        "        self.name = name\n",
        "        self.grades = grades\n",
        "\n",
        "    def average_grade(self):\n",
        "        return sum(self.grades) / len(self.grades)\n",
        "\n",
        "# Example usage:\n",
        "student = Student(\"Alice\", [90, 85, 88, 92])\n",
        "print(student.average_grade())  # Output: 88.75"
      ],
      "metadata": {
        "colab": {
          "base_uri": "https://localhost:8080/"
        },
        "id": "1NY1v9PqW1uh",
        "outputId": "b5ad0f18-0b0e-4ef9-df84-3587a74d3c23"
      },
      "execution_count": null,
      "outputs": [
        {
          "output_type": "stream",
          "name": "stdout",
          "text": [
            "88.75\n"
          ]
        }
      ]
    },
    {
      "cell_type": "code",
      "source": [
        "# 13. Rectangle class with methods to set dimensions and calculate area\n",
        "\n",
        "class Rectangle:\n",
        "    def __init__(self, width=0, height=0):\n",
        "        self.width = width\n",
        "        self.height = height\n",
        "\n",
        "    def set_dimensions(self, width, height):\n",
        "        self.width = width\n",
        "        self.height = height\n",
        "\n",
        "    def area(self):\n",
        "        return self.width * self.height\n",
        "\n",
        "# Example usage:\n",
        "rectangle = Rectangle()\n",
        "rectangle.set_dimensions(4, 5)\n",
        "print(rectangle.area())  # Output: 20"
      ],
      "metadata": {
        "colab": {
          "base_uri": "https://localhost:8080/"
        },
        "id": "l5qTbebiW5b6",
        "outputId": "49cfc030-f814-48d7-be4a-efd14c6eee0c"
      },
      "execution_count": null,
      "outputs": [
        {
          "output_type": "stream",
          "name": "stdout",
          "text": [
            "20\n"
          ]
        }
      ]
    },
    {
      "cell_type": "code",
      "source": [
        "# 14. Employee class with salary calculation, and Manager subclass\n",
        "\n",
        "class Employee:\n",
        "    def __init__(self, hours_worked, hourly_rate):\n",
        "        self.hours_worked = hours_worked\n",
        "        self.hourly_rate = hourly_rate\n",
        "\n",
        "    def calculate_salary(self):\n",
        "        return self.hours_worked * self.hourly_rate\n",
        "\n",
        "class Manager(Employee):\n",
        "    def __init__(self, hours_worked, hourly_rate, bonus):\n",
        "        super().__init__(hours_worked, hourly_rate)\n",
        "        self.bonus = bonus\n",
        "\n",
        "    def calculate_salary(self):\n",
        "        return super().calculate_salary() + self.bonus\n",
        "\n",
        "# Example usage:\n",
        "employee = Employee(40, 20)\n",
        "print(employee.calculate_salary())  # Output: 800\n",
        "\n",
        "manager = Manager(40, 25, 500)\n",
        "print(manager.calculate_salary())  # Output: 1500"
      ],
      "metadata": {
        "colab": {
          "base_uri": "https://localhost:8080/"
        },
        "id": "1-RTb5yZW9be",
        "outputId": "810c51e5-ed4e-4b18-a973-594f6a807d72"
      },
      "execution_count": null,
      "outputs": [
        {
          "output_type": "stream",
          "name": "stdout",
          "text": [
            "800\n",
            "1500\n"
          ]
        }
      ]
    },
    {
      "cell_type": "code",
      "source": [
        "# 15. Product class with total_price() method\n",
        "\n",
        "class Product:\n",
        "    def __init__(self, name, price, quantity):\n",
        "        self.name = name\n",
        "        self.price = price\n",
        "        self.quantity = quantity\n",
        "\n",
        "    def total_price(self):\n",
        "        return self.price * self.quantity\n",
        "\n",
        "# Example usage:\n",
        "product = Product(\"Laptop\", 1000, 3)\n",
        "print(product.total_price())  # Output: 3000"
      ],
      "metadata": {
        "colab": {
          "base_uri": "https://localhost:8080/"
        },
        "id": "8emkQiRhXBjC",
        "outputId": "9f473c8f-894b-4e22-8a74-50751fa8586b"
      },
      "execution_count": null,
      "outputs": [
        {
          "output_type": "stream",
          "name": "stdout",
          "text": [
            "3000\n"
          ]
        }
      ]
    },
    {
      "cell_type": "code",
      "source": [
        "# 16. Animal class with abstract method sound() and derived classes Cow and Sheep\n",
        "\n",
        "from abc import ABC, abstractmethod\n",
        "\n",
        "class Animal(ABC):\n",
        "    @abstractmethod\n",
        "    def sound(self):\n",
        "        pass\n",
        "\n",
        "class Cow(Animal):\n",
        "    def sound(self):\n",
        "        print(\"Moo!\")\n",
        "\n",
        "class Sheep(Animal):\n",
        "    def sound(self):\n",
        "        print(\"Baa!\")\n",
        "\n",
        "# Example usage:\n",
        "cow = Cow()\n",
        "cow.sound()  # Output: Moo!\n",
        "\n",
        "sheep = Sheep()\n",
        "sheep.sound()  # Output: Baa!\n"
      ],
      "metadata": {
        "colab": {
          "base_uri": "https://localhost:8080/"
        },
        "id": "p_4PpOu-XGi-",
        "outputId": "464eba4e-d147-4dd9-b46a-8a718a8f191c"
      },
      "execution_count": null,
      "outputs": [
        {
          "output_type": "stream",
          "name": "stdout",
          "text": [
            "Moo!\n",
            "Baa!\n"
          ]
        }
      ]
    },
    {
      "cell_type": "code",
      "source": [
        "# 17. Book class with get_book_info() method\n",
        "\n",
        "class Book:\n",
        "    def __init__(self, title, author, year_published):\n",
        "        self.title = title\n",
        "        self.author = author\n",
        "        self.year_published = year_published\n",
        "\n",
        "    def get_book_info(self):\n",
        "        return f\"Title: {self.title}, Author: {self.author}, Year: {self.year_published}\"\n",
        "\n",
        "# Example usage:\n",
        "book = Book(\"1984\", \"George Orwell\", 1949)\n",
        "print(book.get_book_info())  # Output: Title: 1984, Author: George Orwell, Year: 1949"
      ],
      "metadata": {
        "colab": {
          "base_uri": "https://localhost:8080/"
        },
        "id": "xbYMiIkeXKnQ",
        "outputId": "79903156-752b-40a4-c706-11f2ef996bf8"
      },
      "execution_count": null,
      "outputs": [
        {
          "output_type": "stream",
          "name": "stdout",
          "text": [
            "Title: 1984, Author: George Orwell, Year: 1949\n"
          ]
        }
      ]
    },
    {
      "cell_type": "code",
      "source": [
        "# 18. House class with derived class Mansion\n",
        "\n",
        "class House:\n",
        "    def __init__(self, address, price):\n",
        "        self.address = address\n",
        "        self.price = price\n",
        "\n",
        "class Mansion(House):\n",
        "    def __init__(self, address, price, number_of_rooms):\n",
        "        super().__init__(address, price)\n",
        "        self.number_of_rooms = number_of_rooms\n",
        "\n",
        "# Example usage:\n",
        "mansion = Mansion(\"123 Palm Street\", 500000, 12)\n",
        "print(f\"Address: {mansion.address}, Price: ${mansion.price}, Rooms: {mansion.number_of_rooms}\")"
      ],
      "metadata": {
        "colab": {
          "base_uri": "https://localhost:8080/"
        },
        "id": "zlHZgC4XXPVq",
        "outputId": "13d5356e-d025-4474-d3d3-a337c649a726"
      },
      "execution_count": null,
      "outputs": [
        {
          "output_type": "stream",
          "name": "stdout",
          "text": [
            "Address: 123 Palm Street, Price: $500000, Rooms: 12\n"
          ]
        }
      ]
    }
  ]
}