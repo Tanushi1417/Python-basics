{
  "nbformat": 4,
  "nbformat_minor": 0,
  "metadata": {
    "colab": {
      "provenance": []
    },
    "kernelspec": {
      "name": "python3",
      "display_name": "Python 3"
    },
    "language_info": {
      "name": "python"
    }
  },
  "cells": [
    {
      "cell_type": "markdown",
      "source": [
        "Python Basics Questions\n",
        "\n",
        " 1. What is Python, and why is it popular?\n",
        " - Python is a high-level, interpreted programming language known for its readability, simplicity, and versatility. Python’s syntax is designed to be easy to understand, which makes it an excellent language for beginners, yet powerful enough for professionals.\n",
        "Python’s popularity can be attributed to its simplicity, versatility, and large ecosystem of libraries and frameworks. Its use in emerging fields like data science and machine learning has further amplified its popularity, making it a go-to language.\n",
        "\n",
        "2. What is an interpreter in Python?\n",
        "- An interpreter in Python is a program that reads and executes Python code line by line. Unlike compiled languages, which are converted into machine code all at once before execution, an interpreter directly executes the source code by interpreting it on the fly.\n",
        "\n",
        "3. What are pre-defined keywords in Python?\n",
        "- Predefined keywords in Python are reserved words that are integral to the syntax and structure of the language. They cannot be used for other purposes (like naming variables), as they have special meanings. Understanding these keywords is essential for writing valid Python code.\n",
        "\n",
        "4. Can keywords be used as variable names?\n",
        "- No, keywords in Python cannot be used as variable names. Keywords are reserved words that have a predefined meaning and purpose in the language, and Python uses them for its syntax and structure. These words are essential for defining control flow, functions, classes, and other language features, so allowing them to be used as variable names would conflict with the language's syntax.\n",
        "\n",
        "5. What is mutability in Python?\n",
        "- Mutability in Python refers to whether or not an object can be modified after it is created. In other words, a mutable object allows its state (or contents) to be changed, whereas an immutable object cannot be changed once it is created.\n",
        "\n",
        "6. Why are lists mutable, but tuples are immutable?\n",
        "- Lists are mutable because they are designed for flexible, dynamic collections where elements can be added, removed, or changed.\n",
        "- Tuples are immutable because they are intended to represent fixed collections of data that should not change, and their immutability ensures their integrity and hashability.\n",
        "\n",
        "7. What is the difference between “==” and “is” operators in Python?\n",
        "- == checks if two objects have the same value.\n",
        "- is checks if two objects are the same object (i.e., they have the same identity and memory location).\n",
        "\n",
        "\n",
        "8. What are logical operators in Python?\n",
        "- In Python, logical operators are used to combine conditional statements and evaluate Boolean expressions. These operators return a True or False value based on the conditions they are applied to.\n",
        "There are three main logical operators in Python:\n",
        "-- and: Returns True if both conditions are true.\n",
        "-- or: Returns True if at least one of the conditions is true.\n",
        "-- not: Reverses the Boolean value of the condition.\n",
        "\n",
        "These logical operators are powerful tools for combining conditions and controlling the flow of your program based on complex criteria.\n",
        "\n",
        "\n",
        "9. What is type casting in Python?\n",
        "- Type casting in Python refers to converting a variable from one data type to another. This process is often necessary when you're working with different types of data and need to ensure that the data is in the correct type for a particular operation or context.\n",
        "\n",
        "There are two types of type casting in Python:\n",
        "- Implicit Type Casting\n",
        "- Explicit Type Casting\n",
        "\n",
        "\n",
        "10. What is the difference between implicit and explicit type casting?\n",
        "- Implicit Type Casting happens automatically when Python detects it is safe (usually from a smaller to a larger data type, such as from int to float) whereas Explicit Type Casting is manually performed by the programmer using built-in functions like int(), float(), str(), etc.\n",
        "Implicit casting is safe in cases where the conversion won't result in data loss, while explicit casting requires care, as it may lead to data loss or errors if not done properly.\n",
        "\n",
        "11. What is the purpose of conditional statements in Python?\n",
        "- Conditional statements in Python are crucial for controlling the flow of execution in your programs. They allow you to make decisions, choose between different actions, and react to different situations based on the data at hand. Whether you're checking for simple conditions or handling complex logic with nested conditions, these statements are foundational for building dynamic and interactive programs.\n",
        "\n",
        "\n",
        "12. How does the elif statement work?\n",
        "- The elif statement is a powerful tool for checking multiple conditions. It allows you to evaluate different conditions sequentially without the need for multiple nested if statements. The execution flow stops once a condition is satisfied, and only the block of code associated with that condition is executed.\n",
        "-- if: Tests the first condition.\n",
        "-- elif: Tests additional conditions if the previous if or elif is False.\n",
        "-- else: A final fallback option if none of the conditions are True (optional).\n",
        "\n",
        "By using elif, you can handle complex decision-making scenarios more efficiently and clearly.\n",
        "\n",
        "\n",
        "13. What is the difference between for and while loops?\n",
        "- for loop is ideal for iterating over a sequence of known length or a fixed number of iterations and while loop is perfect when you need to repeat a block of code an unknown number of times, controlled by a condition that may change over time.\n",
        "\n",
        "\n",
        "14. Describe a scenario where a while loop is more suitable than a for loop\n",
        "-A while loop is more suitable than a for loop when you need to repeat a block of code indefinitely (or for an unknown number of iterations) based on a condition that is checked before every iteration. Specifically, it is ideal when the number of iterations is not known in advance and depends on dynamic factors or events that can change during the execution of the loop.\n",
        "\n",
        "Scenario: Waiting for User Input\n",
        "A classic example where a while loop is more suitable than a for loop is when you are waiting for user input to meet a specific condition. Since you don’t know how many times the user will enter data, you need the loop to continue until the input is valid or a certain condition is met.\n",
        "\n",
        "\n",
        "\n",
        "\n",
        "\n",
        "\n",
        "\n",
        "\n",
        "\n",
        "\n",
        "\n"
      ],
      "metadata": {
        "id": "s4D-5NoCuQZv"
      }
    },
    {
      "cell_type": "code",
      "source": [
        "#Write a Python program to print \"Hello, World\"\n",
        "print(\"Hello, World\")\n"
      ],
      "metadata": {
        "colab": {
          "base_uri": "https://localhost:8080/"
        },
        "id": "16dN-l2KBayA",
        "outputId": "1ddbc094-1fa4-40e5-9343-1cd1ba59e998"
      },
      "execution_count": 2,
      "outputs": [
        {
          "output_type": "stream",
          "name": "stdout",
          "text": [
            "Hello, World\n"
          ]
        }
      ]
    },
    {
      "cell_type": "code",
      "source": [
        "#Write a Python program that displays your name and age\n",
        "name = \"Tanushi Bharti\"\n",
        "age = 25\n",
        "print(\"Name:\", name)\n",
        "print(\"Age:\", age)\n"
      ],
      "metadata": {
        "colab": {
          "base_uri": "https://localhost:8080/"
        },
        "id": "sxMG9e43Cn01",
        "outputId": "1f061f31-e595-47fe-c1b5-899f30592b1b"
      },
      "execution_count": 5,
      "outputs": [
        {
          "output_type": "stream",
          "name": "stdout",
          "text": [
            "Name: Tanushi Bharti\n",
            "Age: 25\n"
          ]
        }
      ]
    },
    {
      "cell_type": "code",
      "source": [
        "#Write code to print all the pre-defined keywords in Python using the keyword library\n",
        "import keyword\n",
        "print(\"Python Keywords:\", keyword.kwlist)\n",
        "\n"
      ],
      "metadata": {
        "colab": {
          "base_uri": "https://localhost:8080/"
        },
        "id": "7w0nEVWMDea9",
        "outputId": "e42fd7fc-3926-435a-9b29-1cb78bb187c3"
      },
      "execution_count": 7,
      "outputs": [
        {
          "output_type": "stream",
          "name": "stdout",
          "text": [
            "Python Keywords: ['False', 'None', 'True', 'and', 'as', 'assert', 'async', 'await', 'break', 'class', 'continue', 'def', 'del', 'elif', 'else', 'except', 'finally', 'for', 'from', 'global', 'if', 'import', 'in', 'is', 'lambda', 'nonlocal', 'not', 'or', 'pass', 'raise', 'return', 'try', 'while', 'with', 'yield']\n"
          ]
        }
      ]
    },
    {
      "cell_type": "code",
      "source": [
        "#Write a program that checks if a given word is a Python keyword\n",
        "import keyword\n",
        "def is_python_keyword(word):\n",
        "    return word in keyword.kwlist\n",
        "word = input(\"Enter a word to check if it's a Python keyword: \")\n",
        "if is_python_keyword(word):\n",
        "    print(f\"'{word}' is a Python keyword.\")\n",
        "else:\n",
        "    print(f\"'{word}' is not a Python keyword.\")\n",
        "\n",
        "\n",
        "\n",
        "\n"
      ],
      "metadata": {
        "colab": {
          "base_uri": "https://localhost:8080/"
        },
        "id": "uC4oFcJ2287z",
        "outputId": "a2e16593-4ca2-4034-91b7-fa9a872ae766"
      },
      "execution_count": 5,
      "outputs": [
        {
          "output_type": "stream",
          "name": "stdout",
          "text": [
            "Enter a word to check if it's a Python keyword: None\n",
            "'None' is a Python keyword.\n"
          ]
        }
      ]
    },
    {
      "cell_type": "code",
      "source": [
        "#Create a list and tuple in Python, and demonstrate how attempting to change an element works differently for each\n",
        "# Create a list\n",
        "my_list = [1, 2, 3, 4, 5]\n",
        "# Changing an element of the list (mutability)\n",
        "print(\"Original list:\", my_list)\n",
        "my_list[2] = 55  # Changing the element at index 2\n",
        "print(\"Updated list:\", my_list)\n"
      ],
      "metadata": {
        "colab": {
          "base_uri": "https://localhost:8080/"
        },
        "id": "yS4Xp7MR5Ofc",
        "outputId": "d67563b2-b7df-4e06-8677-df7249aa9606"
      },
      "execution_count": 7,
      "outputs": [
        {
          "output_type": "stream",
          "name": "stdout",
          "text": [
            "Original list: [1, 2, 3, 4, 5]\n",
            "Updated list: [1, 2, 55, 4, 5]\n"
          ]
        }
      ]
    },
    {
      "cell_type": "code",
      "source": [
        "# Create a tuple\n",
        "my_tuple = (1, 2, 3, 4, 5)\n",
        "# Trying to change an element of the tuple (will raise an error)\n",
        "print(\"Original tuple:\", my_tuple)\n",
        "try:\n",
        "    my_tuple[2] = 99  # Attempt to change the element at index 2\n",
        "except TypeError as e:\n",
        "    print(\"Error:\", e)  # This will print the error message\n"
      ],
      "metadata": {
        "colab": {
          "base_uri": "https://localhost:8080/"
        },
        "id": "A92el6TD65iC",
        "outputId": "6f50eb3b-8a87-458a-9b26-129f7f799893"
      },
      "execution_count": 8,
      "outputs": [
        {
          "output_type": "stream",
          "name": "stdout",
          "text": [
            "Original tuple: (1, 2, 3, 4, 5)\n",
            "Error: 'tuple' object does not support item assignment\n"
          ]
        }
      ]
    },
    {
      "cell_type": "code",
      "source": [
        "#Write a function to demonstrate the behavior of mutable and immutable arguments\n",
        "def demonstrate_mutability(immutable_arg, mutable_arg):\n",
        "    print(f\"Before modification:\")\n",
        "    print(f\"Immutable argument (integer): {immutable_arg}\")\n",
        "    print(f\"Mutable argument (list): {mutable_arg}\")\n",
        "\n",
        "    # Modify the immutable argument (this won't affect the original)\n",
        "    immutable_arg += 10\n",
        "    # Modify the mutable argument (this will affect the original)\n",
        "    mutable_arg.append(4)\n",
        "\n",
        "    print(f\"\\nAfter modification:\")\n",
        "    print(f\"Immutable argument (integer): {immutable_arg}\")  # This change is local to the function\n",
        "    print(f\"Mutable argument (list): {mutable_arg}\")  # This change will affect the original list\n",
        "\n",
        "\n",
        "# Example usage\n",
        "immutable_example = 5\n",
        "mutable_example = [1, 2, 3]\n",
        "\n",
        "demonstrate_mutability(immutable_example, mutable_example)\n",
        "\n",
        "# Check outside the function\n",
        "print(f\"\\nOutside function:\")\n",
        "print(f\"Immutable argument (integer) after function call: {immutable_example}\")\n",
        "print(f\"Mutable argument (list) after function call: {mutable_example}\")\n"
      ],
      "metadata": {
        "colab": {
          "base_uri": "https://localhost:8080/"
        },
        "id": "qjPKUa0C7XSu",
        "outputId": "4f778251-320f-4559-a9a0-5b698d03f7d8"
      },
      "execution_count": 9,
      "outputs": [
        {
          "output_type": "stream",
          "name": "stdout",
          "text": [
            "Before modification:\n",
            "Immutable argument (integer): 5\n",
            "Mutable argument (list): [1, 2, 3]\n",
            "\n",
            "After modification:\n",
            "Immutable argument (integer): 15\n",
            "Mutable argument (list): [1, 2, 3, 4]\n",
            "\n",
            "Outside function:\n",
            "Immutable argument (integer) after function call: 5\n",
            "Mutable argument (list) after function call: [1, 2, 3, 4]\n"
          ]
        }
      ]
    },
    {
      "cell_type": "code",
      "source": [
        "#Write a program to demonstrate the use of logical operators\n",
        "\n",
        "# Sample variables\n",
        "age = 25\n",
        "has_license = True\n",
        "is_student = False\n",
        "\n",
        "# Using logical 'and' (both conditions must be True)\n",
        "if age >= 18 and has_license:\n",
        "    print(\"You are eligible to drive.\")\n",
        "\n",
        "# Using logical 'or' (at least one condition must be True)\n",
        "if age < 18 or not has_license:\n",
        "    print(\"You are not eligible to drive.\")\n",
        "\n",
        "# Using logical 'not' (inverts the condition)\n",
        "if not is_student:\n",
        "    print(\"You are not a student.\")\n",
        "\n",
        "# Combine 'and', 'or', and 'not'\n",
        "if (age >= 18 and has_license) or not is_student:\n",
        "    print(\"Either you're eligible to drive, or you're not a student.\")\n"
      ],
      "metadata": {
        "colab": {
          "base_uri": "https://localhost:8080/"
        },
        "id": "qOgPC2Q_8XYy",
        "outputId": "3c6488d9-1d25-4680-f709-df2e62ca6e47"
      },
      "execution_count": 10,
      "outputs": [
        {
          "output_type": "stream",
          "name": "stdout",
          "text": [
            "You are eligible to drive.\n",
            "You are not a student.\n",
            "Either you're eligible to drive, or you're not a student.\n"
          ]
        }
      ]
    },
    {
      "cell_type": "code",
      "source": [
        "#Write a Python program to convert user input from string to integer, float, and boolean types\n",
        "# Get input from the user\n",
        "user_input = input(\"Enter a value: \")\n",
        "\n",
        "# Convert to integer (if possible)\n",
        "try:\n",
        "    int_value = int(user_input)\n",
        "    print(f\"Converted to integer: {int_value}\")\n",
        "except ValueError:\n",
        "    print(\"Cannot convert to integer.\")\n",
        "\n",
        "# Convert to float (if possible)\n",
        "try:\n",
        "    float_value = float(user_input)\n",
        "    print(f\"Converted to float: {float_value}\")\n",
        "except ValueError:\n",
        "    print(\"Cannot convert to float.\")\n",
        "\n",
        "# Convert to boolean (if possible)\n",
        "# In Python, an empty string, '0', or None is considered False.\n",
        "# Any other value is considered True.\n",
        "if user_input.strip().lower() == 'false' or user_input.strip() == '0' or user_input.strip() == '':\n",
        "    bool_value = False\n",
        "else:\n",
        "    bool_value = True\n",
        "\n",
        "print(f\"Converted to boolean: {bool_value}\")\n"
      ],
      "metadata": {
        "colab": {
          "base_uri": "https://localhost:8080/"
        },
        "id": "Z00h3ZeF8297",
        "outputId": "342106c5-7a48-4edb-faa8-9fece07af3b3"
      },
      "execution_count": 12,
      "outputs": [
        {
          "output_type": "stream",
          "name": "stdout",
          "text": [
            "Enter a value: 556\n",
            "Converted to integer: 556\n",
            "Converted to float: 556.0\n",
            "Converted to boolean: True\n"
          ]
        }
      ]
    },
    {
      "cell_type": "code",
      "source": [
        "#Write code to demonstrate type casting with list elements\n",
        "# Original list with string numbers\n",
        "original_list = [\"1\", \"2\", \"3.5\", \"4.8\"]\n",
        "\n",
        "# Convert string elements to integers\n",
        "int_list = [int(float(x)) for x in original_list]\n",
        "\n",
        "# Convert string elements to floats\n",
        "float_list = [float(x) for x in original_list]\n",
        "\n",
        "# Convert string elements to strings (even though they're already strings)\n",
        "str_list = [str(x) for x in original_list]\n",
        "\n",
        "# Print the results\n",
        "print(\"Original List:\", original_list)\n",
        "print(\"List with integers:\", int_list)\n",
        "print(\"List with floats:\", float_list)\n",
        "print(\"List with strings:\", str_list)\n"
      ],
      "metadata": {
        "colab": {
          "base_uri": "https://localhost:8080/"
        },
        "id": "AM0ynjQi9w5E",
        "outputId": "13b92e05-8307-4dda-abc9-39c91e1cf6d1"
      },
      "execution_count": 13,
      "outputs": [
        {
          "output_type": "stream",
          "name": "stdout",
          "text": [
            "Original List: ['1', '2', '3.5', '4.8']\n",
            "List with integers: [1, 2, 3, 4]\n",
            "List with floats: [1.0, 2.0, 3.5, 4.8]\n",
            "List with strings: ['1', '2', '3.5', '4.8']\n"
          ]
        }
      ]
    },
    {
      "cell_type": "code",
      "source": [
        "#Write a program that checks if a number is positive, negative, or zero\n",
        "num = float(input(\"Enter a number: \"))\n",
        "if num > 0:\n",
        "    print(\"The number is positive.\")\n",
        "elif num < 0:\n",
        "    print(\"The number is negative.\")\n",
        "else:\n",
        "    print(\"The number is zero.\")\n"
      ],
      "metadata": {
        "colab": {
          "base_uri": "https://localhost:8080/"
        },
        "id": "LnNab42w-Yfa",
        "outputId": "7e0828a5-4d72-4840-e2a2-7d3fbe606ad1"
      },
      "execution_count": 17,
      "outputs": [
        {
          "output_type": "stream",
          "name": "stdout",
          "text": [
            "Enter a number: 0\n",
            "The number is zero.\n"
          ]
        }
      ]
    },
    {
      "cell_type": "code",
      "source": [
        "#Write a for loop to print numbers from 1 to 10\n",
        "for i in range(1, 11):\n",
        "    print(i)\n"
      ],
      "metadata": {
        "colab": {
          "base_uri": "https://localhost:8080/"
        },
        "id": "mqf3bUUO_Atb",
        "outputId": "f4349775-b06f-446b-98cb-7133259a1cba"
      },
      "execution_count": 18,
      "outputs": [
        {
          "output_type": "stream",
          "name": "stdout",
          "text": [
            "1\n",
            "2\n",
            "3\n",
            "4\n",
            "5\n",
            "6\n",
            "7\n",
            "8\n",
            "9\n",
            "10\n"
          ]
        }
      ]
    },
    {
      "cell_type": "code",
      "source": [
        "#Write a Python program to find the sum of all even numbers between 1 and 50\n",
        "sum_even = 0\n",
        "# Loop through numbers from 1 to 50\n",
        "for i in range(1, 51):\n",
        "    if i % 2 == 0:  # Check if the number is even\n",
        "        sum_even += i  # Add the even number to the sum\n",
        "\n",
        "# Print the result\n",
        "print(\"The sum of all even numbers between 1 and 50 is:\", sum_even)\n"
      ],
      "metadata": {
        "colab": {
          "base_uri": "https://localhost:8080/"
        },
        "id": "Aei1kXl5_P2q",
        "outputId": "c04983c9-4ad4-42e8-8e01-511bdce764a6"
      },
      "execution_count": 19,
      "outputs": [
        {
          "output_type": "stream",
          "name": "stdout",
          "text": [
            "The sum of all even numbers between 1 and 50 is: 650\n"
          ]
        }
      ]
    },
    {
      "cell_type": "code",
      "source": [
        "#Write a program to reverse a string using a while loop\n",
        "def reverse_string(input_string):\n",
        "    reversed_string = \"\"\n",
        "    index = len(input_string) - 1\n",
        "\n",
        "    while index >= 0:\n",
        "        reversed_string += input_string[index]\n",
        "        index -= 1\n",
        "\n",
        "    return reversed_string\n",
        "\n",
        "# Example usage:\n",
        "input_str = \"hello\"\n",
        "print(reverse_string(input_str))  # Output: 'olleh'\n"
      ],
      "metadata": {
        "colab": {
          "base_uri": "https://localhost:8080/"
        },
        "id": "VUC7uhsU_nzw",
        "outputId": "6a1c0d9c-ff0a-462b-cb1a-32b7f63fe956"
      },
      "execution_count": 21,
      "outputs": [
        {
          "output_type": "stream",
          "name": "stdout",
          "text": [
            "olleh\n"
          ]
        }
      ]
    },
    {
      "cell_type": "code",
      "source": [
        "#Write a Python program to calculate the factorial of a number provided by the user using a while loop.\n",
        "num = int(input(\"Enter a number to calculate its factorial: \"))\n",
        "factorial = 1\n",
        "if num < 0:\n",
        "    print(\"Factorial is not defined for negative numbers.\")\n",
        "else:\n",
        "    while num > 1:\n",
        "        factorial *= num\n",
        "        num -= 1\n",
        "    print(f\"The factorial is: {factorial}\")\n"
      ],
      "metadata": {
        "colab": {
          "base_uri": "https://localhost:8080/"
        },
        "id": "L5fAuf3RAXis",
        "outputId": "72c1fa2f-af58-46bd-ab9f-ea1e83c10b57"
      },
      "execution_count": 23,
      "outputs": [
        {
          "output_type": "stream",
          "name": "stdout",
          "text": [
            "Enter a number to calculate its factorial: 5\n",
            "The factorial is: 120\n"
          ]
        }
      ]
    }
  ]
}