{
  "nbformat": 4,
  "nbformat_minor": 0,
  "metadata": {
    "colab": {
      "provenance": []
    },
    "kernelspec": {
      "name": "python3",
      "display_name": "Python 3"
    },
    "language_info": {
      "name": "python"
    }
  },
  "cells": [
    {
      "cell_type": "markdown",
      "source": [
        "1. Difference between a function and a method in Python:\n",
        " - Function: An independent block of reusable code, not tied to any object. Defined using `def`.\n",
        " - Method: A function associated with an object and can operate on that object’s data.\n",
        "\n",
        " 2. Function arguments and parameters in Python:\n",
        " - Parameters: Variables declared in a function definition (e.g., `def func(x):`).\n",
        " - Arguments: Actual values provided to the function when called (e.g., `func(5)`).\n",
        "\n",
        " 3. Ways to define and call a function in Python:\n",
        " - Define: Use the `def` keyword, e.g., `def my_func():`.\n",
        " - Call: Invoke the function using its name followed by parentheses, e.g., `my_func()`.\n",
        " - Types of arguments:\n",
        "   1. Positional: `func(5)`.\n",
        "   2. Keyword: `func(arg1=value1)`.\n",
        "   3. Default: Predefined values in function definition, e.g., `def func(x=5):`.\n",
        "   4. Variable-length: Use `*args` for tuples, `**kwargs` for dictionaries.\n",
        "\n",
        " 4. Purpose of the `return` statement:\n",
        " - Ends function execution and optionally sends a value to the caller.\n",
        " - Example:\n",
        "   def add(a, b):\n",
        "       return a + b\n",
        "\n",
        " 5. Iterators vs Iterables:\n",
        " - Iterable: An object capable of returning its members one at a time (e.g., list, tuple).\n",
        " - Iterator: An object that produces the next value in an iterable using `__next__()`.\n",
        "\n",
        " 6. Generators in Python:\n",
        " - A generator is a special type of iterator defined using a function with the `yield` keyword.\n",
        " - Example:\n",
        "   def my_gen():\n",
        "       yield 1\n",
        "       yield 2\n",
        "\n",
        " 7. Advantages of generators:\n",
        " - Memory efficiency: Does not store all elements in memory.\n",
        " - Lazy evaluation: Produces items one at a time on demand.\n",
        " - Useful for processing large data or infinite sequences.\n",
        "\n",
        " 8. Lambda functions:\n",
        " - Anonymous, inline functions defined using `lambda` keyword.\n",
        " - Syntax: `lambda arguments: expression`.\n",
        " - Example: `add = lambda x, y: x + y`\n",
        " - Used for short-term operations, often with `map()`, `filter()`, etc.\n",
        "\n",
        " 9. Purpose of `map()`:\n",
        " - Applies a function to each item of an iterable.\n",
        " - Example:\n",
        "   nums = [1, 2, 3]\n",
        "   squared = map(lambda x: x**2, nums)  # Result: [1, 4, 9]\n",
        "\n",
        " 10. Difference between `map()`, `reduce()`, and `filter()`:\n",
        " - `map()`: Transforms each item in an iterable using a function.\n",
        "   Example: `map(lambda x: x*2, [1, 2, 3]) -> [2, 4, 6]`.\n",
        " - `filter()`: Filters items based on a condition.\n",
        "   Example: `filter(lambda x: x > 2, [1, 2, 3]) -> [3]`.\n",
        " - `reduce()`: Combines items into a single value by applying a function cumulatively (requires `functools.reduce`).\n",
        "   Example: `reduce(lambda x, y: x + y, [1, 2, 3, 4]) -> 10`.\n",
        "\n",
        "  11. 11. Using pen & Paper write the internal mechanism for sum operation using  reduce function on this given\n",
        "list:[47,11,42,13];\n",
        "\n",
        " - Internal mechanism of reduce for sum operation on the list [47, 11, 42, 13]:\n",
        "\n",
        " Step 1: Start with the first two elements in the list.\n",
        "         Apply the function (addition) on 47 and 11:\n",
        "         47 + 11 = 58.\n",
        "\n",
        " Step 2: Take the result from Step 1 (58) and the next element (42):\n",
        "         58 + 42 = 100.\n",
        "\n",
        " Step 3: Take the result from Step 2 (100) and the next element (13):\n",
        "         100 + 13 = 113.\n",
        "\n",
        " Step 4: Final result after all iterations:\n",
        "         Sum = 113.\n",
        "\n",
        " Explanation:\n",
        " - The `reduce` function works by applying a function (e.g., addition) cumulatively\n",
        "   to the items in an iterable, reducing it to a single value.\n",
        " - At each step, the function takes two inputs: the accumulated result and the next item."
      ],
      "metadata": {
        "id": "RH52Jm5SRZdZ"
      }
    },
    {
      "cell_type": "code",
      "source": [
        "# 1. Function to return the sum of all even numbers in a list.\n",
        "\n",
        "numbers = [1, 2, 3, 4, 5, 6]\n",
        "result = sum_of_evens(numbers)\n",
        "print(\"Sum of even numbers:\", result)"
      ],
      "metadata": {
        "colab": {
          "base_uri": "https://localhost:8080/"
        },
        "id": "G2DWRJz2RvXw",
        "outputId": "e7efa68b-7dc6-4a06-8f81-1705a08863b5"
      },
      "execution_count": null,
      "outputs": [
        {
          "output_type": "stream",
          "name": "stdout",
          "text": [
            "Sum of even numbers: 12\n"
          ]
        }
      ]
    },
    {
      "cell_type": "code",
      "source": [
        "#  2. Create a Python function that accepts a string and returns the reverse of that string.\n",
        "\n",
        "\n",
        "def reverse_string(s):\n",
        "    \"\"\"\n",
        "    Accepts a string and returns its reverse.\n",
        "    \"\"\"\n",
        "    return s[::-1]\n",
        "\n",
        "# Example usage\n",
        "input_string = \"Python is fun!\"\n",
        "print(\"Original string:\", input_string)\n",
        "print(\"Reversed string:\", reverse_string(input_string))"
      ],
      "metadata": {
        "colab": {
          "base_uri": "https://localhost:8080/"
        },
        "id": "lNPDamlTXnub",
        "outputId": "01c5a8cc-c5ee-4f97-fec8-eb7edb117f28"
      },
      "execution_count": null,
      "outputs": [
        {
          "output_type": "stream",
          "name": "stdout",
          "text": [
            "Original string: Python is fun!\n",
            "Reversed string: !nuf si nohtyP\n"
          ]
        }
      ]
    },
    {
      "cell_type": "code",
      "source": [
        "# 3. Implement a Python function that takes a list of integers and returns a new list containing the squares of\n",
        "each number.\n",
        "\n",
        "def square_numbers(numbers):\n",
        "    return [num ** 2 for num in numbers]\n",
        "\n",
        "# Example usage:\n",
        "numbers = [1, 2, 3, 4, 5]\n",
        "squared_numbers = square_numbers(numbers)\n",
        "print(squared_numbers)\n",
        "\n"
      ],
      "metadata": {
        "id": "DtA3c-KEXwP_"
      },
      "execution_count": null,
      "outputs": []
    },
    {
      "cell_type": "code",
      "source": [
        "# 4. Write a Python function that checks if a given number is prime or not from 1 to 200.\n",
        "def is_prime(n):\n",
        "    if n <= 1:\n",
        "        return False\n",
        "    for i in range(2, int(n ** 0.5) + 1):\n",
        "        if n % i == 0:\n",
        "            return False\n",
        "    return True\n",
        "\n",
        "# Checking prime numbers from 1 to 200\n",
        "primes_in_range = [num for num in range(1, 201) if is_prime(num)]\n",
        "\n",
        "print(primes_in_range)"
      ],
      "metadata": {
        "id": "YuDy7Z_1ZIBD"
      },
      "execution_count": null,
      "outputs": []
    },
    {
      "cell_type": "code",
      "source": [
        "#5. Create an iterator class in Python that generates the Fibonacci sequence up to a specified number of\n",
        "#   terms.\n",
        "\n",
        "class FibonacciIterator:\n",
        "    def __init__(self, n):\n",
        "        self.n = n  # Number of terms in the Fibonacci sequence\n",
        "        self.a, self.b = 0, 1  # Initial Fibonacci numbers\n",
        "        self.count = 0  # Counter to track the number of terms generated\n",
        "\n",
        "    def __iter__(self):\n",
        "        return self  # Returns the iterator object itself\n",
        "\n",
        "    def __next__(self):\n",
        "        if self.count < self.n:\n",
        "            fibonacci_number = self.a\n",
        "            self.a, self.b = self.b, self.a + self.b  # Update Fibonacci numbers\n",
        "            self.count += 1\n",
        "            return fibonacci_number\n",
        "        else:\n",
        "            raise StopIteration  # Stop the iteration when n terms are reached\n",
        "\n",
        "# Example usage to generate the first 10 Fibonacci numbers:\n",
        "fibonacci = FibonacciIterator(10)\n",
        "for num in fibonacci:\n",
        "    print(num)"
      ],
      "metadata": {
        "colab": {
          "base_uri": "https://localhost:8080/"
        },
        "id": "6t_b9lNOZYEY",
        "outputId": "c2ba20c0-d4c7-4a87-e7f0-a6ab7175eb9d"
      },
      "execution_count": null,
      "outputs": [
        {
          "output_type": "stream",
          "name": "stdout",
          "text": [
            "0\n",
            "1\n",
            "1\n",
            "2\n",
            "3\n",
            "5\n",
            "8\n",
            "13\n",
            "21\n",
            "34\n"
          ]
        }
      ]
    },
    {
      "cell_type": "code",
      "source": [
        "# 6. Write a generator function in Python that yields the powers of 2 up to a given exponent.\n",
        "\n",
        "def powers_of_2(exponent):\n",
        "    for i in range(exponent + 1):\n",
        "        yield 2 ** i\n",
        "\n",
        "# Example usage to get powers of 2 up to 5:\n",
        "for power in powers_of_2(5):\n",
        "    print(power)"
      ],
      "metadata": {
        "colab": {
          "base_uri": "https://localhost:8080/"
        },
        "id": "hXcH118MZxIi",
        "outputId": "fc1ab013-cdef-40f3-bcda-fae5f0c7a878"
      },
      "execution_count": null,
      "outputs": [
        {
          "output_type": "stream",
          "name": "stdout",
          "text": [
            "1\n",
            "2\n",
            "4\n",
            "8\n",
            "16\n",
            "32\n"
          ]
        }
      ]
    },
    {
      "cell_type": "code",
      "source": [
        "#8.  Use a lambda function in Python to sort a list of tuples based on the second element of each tuple.\n",
        "\n",
        "tuples_list = [(1, 3), (4, 1), (2, 2), (5, 4)]\n",
        "sorted_tuples = sorted(tuples_list, key=lambda x: x[1])\n",
        "print(sorted_tuples)\n"
      ],
      "metadata": {
        "colab": {
          "base_uri": "https://localhost:8080/"
        },
        "id": "D9UBUc3EZ-fh",
        "outputId": "8d52f3de-2e23-4e19-9e16-8af5cb3cdbad"
      },
      "execution_count": null,
      "outputs": [
        {
          "output_type": "stream",
          "name": "stdout",
          "text": [
            "[(4, 1), (2, 2), (1, 3), (5, 4)]\n"
          ]
        }
      ]
    },
    {
      "cell_type": "code",
      "source": [
        "# 9. Write a Python program that uses `map()` to convert a list of temperatures from Celsius to Fahrenheit.\n",
        "def celsius_to_fahrenheit(celsius):\n",
        "    return (celsius * 9/5) + 32\n",
        "celsius_temps = [0, 20, 30, 40, 100]\n",
        "fahrenheit_temps = list(map(celsius_to_fahrenheit, celsius_temps))\n",
        "print(fahrenheit_temps)\n"
      ],
      "metadata": {
        "colab": {
          "base_uri": "https://localhost:8080/"
        },
        "id": "dS5kT37ibUA1",
        "outputId": "41ea2022-2dfb-41d2-9265-53aa8a195477"
      },
      "execution_count": null,
      "outputs": [
        {
          "output_type": "stream",
          "name": "stdout",
          "text": [
            "[32.0, 68.0, 86.0, 104.0, 212.0]\n"
          ]
        }
      ]
    },
    {
      "cell_type": "code",
      "source": [
        "#10. Create a Python program that uses `filter()` to remove all the vowels from a given string\n",
        "def remove_vowels(char):\n",
        "    vowels = 'aeiouAEIOU'\n",
        "    return char not in vowels\n",
        "\n",
        "input_string = \"Hello, World!\"\n",
        "\n",
        "filtered_string = ''.join(filter(remove_vowels, input_string))\n",
        "\n",
        "print(filtered_string)"
      ],
      "metadata": {
        "colab": {
          "base_uri": "https://localhost:8080/"
        },
        "id": "Q37_o97Wbls2",
        "outputId": "a67c787b-1c81-4e9e-b8e7-71b8a09bc765"
      },
      "execution_count": null,
      "outputs": [
        {
          "output_type": "stream",
          "name": "stdout",
          "text": [
            "Hll, Wrld!\n"
          ]
        }
      ]
    },
    {
      "cell_type": "code",
      "source": [],
      "metadata": {
        "id": "-Ftb-RFPb-QK"
      },
      "execution_count": null,
      "outputs": []
    }
  ]
}