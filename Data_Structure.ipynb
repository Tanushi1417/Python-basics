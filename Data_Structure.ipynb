{
  "nbformat": 4,
  "nbformat_minor": 0,
  "metadata": {
    "colab": {
      "provenance": []
    },
    "kernelspec": {
      "name": "python3",
      "display_name": "Python 3"
    },
    "language_info": {
      "name": "python"
    }
  },
  "cells": [
    {
      "cell_type": "markdown",
      "source": [
        "1.What are data structures, and why are they important?\n",
        "- Data structures are ways of organizing and storing data so that they can be accessed and manipulated efficiently.\n",
        "Key Types of Data Structures:- String, List, set, tuples, dictionary and array.\n",
        "\n",
        "Why are they important :- Data structures are the core of software design and development. They impact:\n",
        "\n",
        "Efficiency: Speed and memory usage in algorithms.\n",
        "\n",
        "Problem Solving: The ability to model real-world problems (like graphs, trees, or queues).\n",
        "\n",
        "Scalability: How well systems perform as data grows.\n",
        "\n",
        "Maintainability: How easy it is to maintain and extend the code.\n",
        "\n",
        "By selecting the right data structure for a problem, you can drastically improve the performance, scalability, and usability of your software. Whether you're writing a small program or building large-scale systems, understanding and leveraging data structures is essential to creating effective solutions.\n",
        "\n",
        "2.Explain the difference between mutable and immutable data types with examples.\n",
        "- The difference between mutable and immutable data types is essential for understanding how data is managed and manipulated in programming. The key distinction lies in whether or not an object’s state can be changed after it is created. Here's an explanation with examples:\n",
        "\n",
        "Mutable Data Types:- Mutable data types are those whose values or contents can be modified after they are created. In other words, once you have a mutable object, you can change its state (i.e., modify its contents) without creating a new object.\n",
        "\n",
        "Examples of Mutable Data Types in Python:\n",
        "Lists\n",
        "Dictionaries\n",
        "Sets\n",
        "\n",
        "Immutable Data Types:- Immutable data types are those whose values or contents cannot be modified after the object is created. Once an immutable object is assigned a value, that value cannot be changed.\n",
        "\n",
        "Examples of Immutable Data Types in Python:\n",
        "Strings\n",
        "Tuples\n",
        "Integers\n",
        "Floats\n",
        "Booleans\n",
        "\n",
        "3. What are the main differences between lists and tuples in Python?\n",
        "- Lists and tuples are both sequence types in Python that can store collections of items. However, there are key differences between them:\n",
        "\n",
        "-- Mutability\n",
        "\n",
        "Lists: Mutable, meaning their contents (elements) can be modified (add, remove, or change items).\n",
        "\n",
        "Tuples: Immutable, meaning their contents cannot be changed once they are created.\n",
        "\n",
        "--Syntax\n",
        "\n",
        "Lists: Defined using square brackets [].\n",
        "\n",
        "Tuples: Defined using parentheses () or without any brackets for multiple items separated by commas.\n",
        "\n",
        "--Performance\n",
        "\n",
        "Lists: Slightly slower because they are mutable and require additional memory management for dynamic resizing.\n",
        "\n",
        "Tuples: Faster because they are immutable and have a fixed size, making them more memory-efficient.\n",
        "\n",
        "-- Use Cases\n",
        "\n",
        "Lists: Preferred when the collection of items needs to be modified or frequently updated.\n",
        "\n",
        "Tuples: Ideal for fixed collections of data that should not change, such as coordinates, configuration settings, or return values from functions.\n",
        "\n",
        "--Methods\n",
        "\n",
        "Lists: Provide many methods for modification, such as .append(), .remove(), .pop(), and .sort().\n",
        "\n",
        "Tuples: Have fewer methods (e.g., .count() and .index()), as they cannot be modified\n",
        "\n",
        "--Representation\n",
        "\n",
        "Lists: Typically used for homogeneous collections (though they can hold mixed types).\n",
        "\n",
        "Tuples: Often used to represent structured data, like a record with fields.\n",
        "\n",
        "4. Describe how dictionaries store data\n",
        "- Dictionaries in Python store data as key-value pairs, making them a highly efficient data structure for retrieving values based on unique keys. Here's an overview of how dictionaries manage their data:\n",
        "\n",
        "-- Hashing\n",
        "\n",
        "Each key in a dictionary is hashed using a hash function. The hash function transforms the key into a unique integer, called the hash value.\n",
        "The hash value determines where the key-value pair is stored in the underlying data structure, typically a hash table.\n",
        "\n",
        "-- Hash Table\n",
        "\n",
        "A hash table is an array-like structure where each slot corresponds to a range of hash values.\n",
        "\n",
        "-- Collision Handling\n",
        "\n",
        "Collisions occur when two keys produce the same hash value.\n",
        "Python handles collisions using a method called open addressing. Instead of using linked lists or chaining, it probes for the next available slot within the hash table.\n",
        "\n",
        "-- Dynamic Resizing\n",
        "\n",
        "To maintain efficiency, dictionaries dynamically resize when they get too full (typically at a load factor of 2/3).\n",
        "\n",
        "-- Fast Lookups\n",
        "Thanks to hashing, retrieving a value by its key has an average time complexity of\n",
        "𝑂\n",
        "(\n",
        "1\n",
        ")\n",
        "O(1). The hash function quickly determines the slot for the key, and the value can be accessed directly.\n",
        "\n",
        "-- Ordered Data (Python 3.7+)\n",
        "\n",
        "Dictionaries in Python 3.7+ preserve the insertion order of keys.\n",
        "This is achieved through an internal structure that maintains a doubly linked list of entries.\n",
        "\n",
        "By combining efficient hashing, dynamic resizing, and collision handling, Python dictionaries provide a robust and fast mechanism for storing and accessing data.\n",
        "\n",
        "5.Why might you use a set instead of a list in Python?\n",
        "In Python, you might use a set instead of a list for the following reasons:\n",
        "\n",
        "-- Avoiding Duplicates\n",
        "\n",
        "Set: Automatically removes duplicates. Useful when you want only unique items.\n",
        "\n",
        "List: Allows duplicates, so you would need extra steps to remove them.\n",
        "\n",
        "--Faster Membership Testing\n",
        "\n",
        "Set: Membership testing (x in set) is faster because sets are implemented as hash tables.\n",
        "\n",
        "List: Membership testing is slower because it involves searching the list item by item\n",
        "\n",
        "--Set Operations\n",
        "\n",
        "Sets support operations like union, intersection, and difference, which are not directly available for lists.\n",
        "\n",
        "--Performance\n",
        "\n",
        "Sets are more efficient for large collections when you don’t care about the order and need fast lookups or operations.\n",
        "\n",
        "6.What is a string in Python, and how is it different from a list?\n",
        "\n",
        "- A string in Python is a sequence of characters (like letters, numbers, or symbols) enclosed in quotes (' or \"), used to represent text.\n",
        "\n",
        "A list is a collection of items (like numbers, strings, or other objects) enclosed in square brackets ([]), which can hold different types of data.\n",
        "\n",
        "How is it different from a list :- strings are immutable sequences of characters, whereas lists are mutable collections of elements that can hold different types. Use strings for text and lists for more general collections of data.\n",
        "\n",
        "7.How do tuples ensure data integrity in Python?\n",
        "\n",
        "- Tuples in Python ensure data integrity primarily through their immutability. This means that once a tuple is created, its contents cannot be modified—elements cannot be added, removed, or altered.\n",
        "\n",
        "8. What is a hash table, and how does it relate to dictionaries in Python?\n",
        "\n",
        "- A hash table is a data structure that stores key-value pairs. It uses a hash function to compute an index (hash) into an array of buckets or slots, from which the desired value can be found. The primary idea is to allow fast retrieval, insertion, and deletion operations, typically in constant time, O(1).\n",
        "\n",
        "How does this relate to Python dictionaries?\n",
        "\n",
        "Python dictionaries are implemented using hash tables. When you create a dictionary in Python, it works by hashing the keys you use to access or insert values. Here’s how they relate:\n",
        "\n",
        "Hashing: In Python dictionaries, the keys are hashed to compute an index, allowing the program to quickly retrieve the corresponding value.\n",
        "\n",
        "Efficiency: Like hash tables, Python dictionaries provide average O(1) time complexity for lookups, insertions, and deletions.\n",
        "\n",
        "Key uniqueness: Just like in a hash table, keys in Python dictionaries must be unique. If you try to insert a key that already exists, it will overwrite the existing value.\n",
        "\n",
        "9. Can lists contain different data types in Python?\n",
        "-- Yes, in Python, lists can contain elements of different data types. This is one of the features that make Python a versatile and dynamic language. You can store integers, strings, floats, booleans, or even other lists (nested lists) in the same list.\n",
        "\n",
        "10. Explain why strings are immutable in Python.\n",
        "- In Python, strings are immutable because their values cannot be changed after they are created.\n",
        "\n",
        "When strings are immutable, Python can optimize memory storage by reusing string objects in memory.\n",
        "\n",
        "Immutability makes strings safer to use in programs.\n",
        "\n",
        "Strings are commonly used as dictionary keys, and for this to work efficiently, they must be immutable.\n",
        "\n",
        "By making strings immutable, Python avoids the complexities of handling mutable objects that may be modified in unpredictable ways, leading to fewer bugs and more straightforward, predictable code.\n",
        "\n",
        "11. What advantages do dictionaries offer over lists for certain tasks?\n",
        "- Dictionaries offer several advantages over lists in certain tasks, especially when it comes to tasks that involve associating values with unique keys or require quick lookups. Here are some key advantages:\n",
        "\n",
        "Fast Lookup by Key: In dictionaries, you can access values directly by specifying the key, which typically takes constant time (O(1)) regardless of the size of the dictionary. Lists, on the other hand, require you to search through the list to find a value, which takes linear time (O(n)).\n",
        "\n",
        "Key-Value Pair Structure: Dictionaries store data in key-value pairs, which makes them ideal for tasks where you need to map one piece of data (key) to another (value). Lists only store individual items, which makes them less suitable for such mappings.\n",
        "\n",
        "Avoid Duplicates: Dictionary keys are unique, so if you try to insert a duplicate key, the old value will be overwritten. This ensures that you don’t accidentally store duplicate entries. Lists allow duplicates, which can be problematic in situations where uniqueness is required.\n",
        "\n",
        "Flexible Key Types: While dictionary keys must be immutable types (such as strings, numbers, or tuples), this allows for more complex key-value mappings. In lists, all elements are indexed by integers, which can be limiting when more complex data relationships are needed.\n",
        "\n",
        "Efficient Insertion and Deletion: Inserting or deleting key-value pairs in dictionaries can be more efficient than in lists, especially when the data structure grows large. Dictionaries provide a more predictable time complexity for insertions and deletions, typically O(1), compared to O(n) in a list when removing or adding items at arbitrary positions.\n",
        "\n",
        "Better for Aggregation or Grouping: Dictionaries are ideal for grouping data, such as counting the occurrences of items or creating categories of items. For example, counting the frequency of words in a list would require iterating over the list and maintaining counters manually, whereas a dictionary allows you to directly associate each word with its frequency.\n",
        "\n",
        "Clearer Code for Key-Based Access: When dealing with specific associations or mappings, dictionaries make your code more readable and logical, as you can directly refer to a meaningful key (e.g., person['age']) instead of using an index position in a list (e.g., person[2]).\n",
        "\n",
        "12.Describe a scenario where using a tuple would be preferable over a list.\n",
        "- A tuple would be preferable over a list in scenarios where the data needs to remain immutable, meaning it shouldn't be accidentally modified after creation.\n",
        "\n",
        "Scenario: Storing Coordinates for Geographic Locations\n",
        "\n",
        "Imagine you are building an application to track geographic locations using latitude and longitude. These pairs of values represent fixed coordinates, and the data should not change after it has been initialized.\n",
        "\n",
        "Using a tuple in this case would make sense because:\n",
        "\n",
        "Immutability: Since tuples are immutable, once a coordinate pair is created, you can be certain that its values (latitude and longitude) won't be changed accidentally elsewhere in the code. This ensures data integrity, especially in situations where coordinates should always stay constant and not be altered.\n",
        "\n",
        "Memory Efficiency: Tuples are generally more memory-efficient than lists, especially when you’re working with large numbers of fixed coordinates. Because of their immutability, they require less overhead to store compared to lists.\n",
        "\n",
        "Hashability: Tuples can be used as keys in dictionaries, while lists cannot. If you wanted to store specific coordinates as keys to access values (like location-based data), a tuple would be required since it is hashable, whereas a list would not be.\n",
        "\n",
        "13. How do sets handle duplicate values in Python?\n",
        "- In Python, sets automatically remove duplicate values. When you try to add a duplicate item to a set, it simply doesn't get added again.\n",
        "\n",
        "example:- my_set = {1, 2, 3, 3, 4}\n",
        "print(my_set)\n",
        "Output: {1, 2, 3, 4}\n",
        "\n",
        "In the above example, the duplicate value 3 is removed, and only unique elements remain in the set.\n",
        "\n",
        "14. How does the “in” keyword work differently for lists and dictionaries?\n",
        "\n",
        "The in keyword behaves differently for lists and dictionaries in Python, depending on what you're checking for:\n",
        "\n",
        "-- For Lists: When used with a list, the in keyword checks if the specified value exists as an element in the list.\n",
        "\n",
        "-- For Dictionaries:\n",
        "When used with a dictionary, the in keyword checks if the specified key exists in the dictionary (not the value).\n",
        "\n",
        "15. Can you modify the elements of a tuple? Explain why or why not.\n",
        "- Tuples are immutable data structures in Python, which means their elements cannot be modified after the tuple is created. Once you assign values to a tuple, you cannot change, add, or remove elements from it.\n",
        "\n",
        "Here’s why you can't modify the elements of a tuple:\n",
        "\n",
        "Immutability: Tuples are designed to be immutable, which means that once a tuple is created, its content cannot be altered. This provides safety and reliability when using tuples as keys in dictionaries or in cases where data integrity is important.\n",
        "\n",
        "Memory Efficiency: Because tuples are immutable, they can be stored more efficiently than lists, and Python can optimize their memory usage.\n",
        "\n",
        "Hashability: Since tuples are immutable, they are hashable, which allows them to be used as keys in dictionaries or sets. Lists, being mutable, cannot be used as keys.\n",
        "\n",
        "However, while the tuple itself cannot be modified, if the tuple contains mutable elements (like lists), those individual elements can still be modified.\n",
        "\n",
        "16. What is a nested dictionary, and give an example of its use case?\n",
        "- A nested dictionary in Python refers to a dictionary where the values themselves are also dictionaries, allowing for the organization of data in a hierarchical structure.\n",
        "\n",
        "A common use case for a nested dictionary is representing complex data, such as storing information about multiple entities where each entity has various attributes. In the example above, the nested dictionary is used to represent employee information where each employee has multiple attributes (name, age, department).\n",
        "\n",
        "This approach is useful in scenarios like:\n",
        "\n",
        "Databases: Storing related data where a primary entity (like a user, employee, or product) has multiple attributes.\n",
        "\n",
        "Configuration files: Storing settings or configurations in a structured way (e.g., an app's settings, where each setting has multiple options).\n",
        "\n",
        "JSON-like data structures: When working with data that naturally fits into a nested format, such as responses from APIs or web scraping results.\n",
        "\n",
        "17. Describe the time complexity of accessing elements in a dictionary.\n",
        "- In Python, dictionaries are implemented using hash tables, which provide an efficient way to access elements. The time complexity for accessing an element in a dictionary is O(1) on average. This means that looking up, inserting, or deleting an element by its key is typically done in constant time.\n",
        "\n",
        "However, in some cases, such as when there are hash collisions or if the dictionary needs to resize itself, the time complexity can degrade. In these cases, the worst-case time complexity for accessing an element can be O(n), where n is the number of elements in the dictionary. This is rare and happens when the hash function doesn't distribute keys uniformly, leading to many collisions.\n",
        "\n",
        "18. In what situations are lists preferred over dictionaries?\n",
        "- Lists are preferred over dictionaries when you don't need key-value pair storage, need to maintain order, or are dealing with sequential, index-based access or homogeneous data.\n",
        "\n",
        "19. Why are dictionaries considered unordered, and how does that affect data retrieval?\n",
        "- Dictionaries in Python are considered unordered because the order of key-value pairs is not guaranteed to be maintained. This is due to how dictionaries are implemented internally. Specifically, dictionaries use a hash table for storing data, where each key is hashed, and the resulting hash determines where the value is stored.\n",
        "\n",
        "How this affects data retrieval:\n",
        "\n",
        "Fast Lookup: Since dictionaries use hashing, retrieving a value by its key is an O(1) operation (constant time). This means you can quickly access any value in the dictionary regardless of its position.\n",
        "\n",
        "No Order Guarantee: If you try to iterate over a dictionary or expect elements to appear in the same order they were inserted, that assumption may not hold.\n",
        "\n",
        "Unpredictability: In versions before Python 3.7, the order of elements during iteration could be completely unpredictable. In modern versions, the insertion order is maintained, but this is primarily for convenience and shouldn't be relied on for algorithms that require an ordered sequence unless using an OrderedDict or a similar structure.\n",
        "\n",
        "20.  Explain the difference between a list and a dictionary in terms of data retrieval.\n",
        "- In Python, both lists and dictionaries are used to store collections of data, but they differ significantly in how they allow you to retrieve that data:\n",
        "\n",
        "List:\n",
        "\n",
        "A list is an ordered collection of items, where each item is accessed by its index (position) in the list.\n",
        "\n",
        "Lists are zero-indexed, meaning the first item is at index 0, the second item is at index 1, and so on.\n",
        "\n",
        "Dictionary:\n",
        "\n",
        "A dictionary is an unordered collection of key-value pairs, where each item is stored as a key and its associated value.\n",
        "\n",
        "To retrieve data in a dictionary, you use the key associated with the value, not the position.\n",
        "\n",
        "The keys in a dictionary must be unique, and the values can be of any type.\n",
        "\n",
        "Key Differences in Data Retrieval:\n",
        "\n",
        "List: Data is accessed via an index (e.g., my_list[0]).\n",
        "\n",
        "Dictionary: Data is accessed via a key (e.g., my_dict['name']).\n",
        "\n",
        "\n",
        "\n",
        "\n",
        "\n",
        "\n",
        "\n",
        "\n",
        "\n",
        "\n",
        "\n",
        "\n",
        "\n",
        "\n",
        "\n",
        "\n",
        "\n",
        "\n"
      ],
      "metadata": {
        "id": "BLJX0FYqdXxb"
      }
    },
    {
      "cell_type": "code",
      "source": [
        "#1.Write a code to create a string with your name and print it.\n",
        "my_name = \"Tanushi Bharti \"\n",
        "print(my_name)"
      ],
      "metadata": {
        "colab": {
          "base_uri": "https://localhost:8080/"
        },
        "id": "v5v2k7x5wIWR",
        "outputId": "aef86c26-75b3-40cb-e572-c8a6ba78bbc6"
      },
      "execution_count": 1,
      "outputs": [
        {
          "output_type": "stream",
          "name": "stdout",
          "text": [
            "Tanushi Bharti \n"
          ]
        }
      ]
    },
    {
      "cell_type": "code",
      "source": [
        "#2.Write a code to find the length of the string \"Hello World\"\n",
        "my_string = \"Hello World\"\n",
        "length_of_string = len(my_string)\n",
        "print(length_of_string)"
      ],
      "metadata": {
        "colab": {
          "base_uri": "https://localhost:8080/"
        },
        "id": "j_fH6AJAwlcK",
        "outputId": "0b4e21a3-2953-4981-fe9e-26fbba438943"
      },
      "execution_count": 3,
      "outputs": [
        {
          "output_type": "stream",
          "name": "stdout",
          "text": [
            "11\n"
          ]
        }
      ]
    },
    {
      "cell_type": "code",
      "source": [
        "#3.Write a code to slice the first 3 characters from the string \"Python Programming\"\n",
        "my_string = \"Python Programming\"\n",
        "sliced_string = my_string[:3]\n",
        "print(sliced_string)"
      ],
      "metadata": {
        "colab": {
          "base_uri": "https://localhost:8080/"
        },
        "id": "X0ZFuzFPw-HV",
        "outputId": "1f17f08b-74aa-4e92-8560-f5d740b14164"
      },
      "execution_count": 5,
      "outputs": [
        {
          "output_type": "stream",
          "name": "stdout",
          "text": [
            "Pyt\n"
          ]
        }
      ]
    },
    {
      "cell_type": "code",
      "source": [
        "#4.Write a code to convert the string \"hello\" to uppercase\n",
        "my_string = \"hello\"\n",
        "uppercase_string = my_string.upper()\n",
        "print(uppercase_string)"
      ],
      "metadata": {
        "colab": {
          "base_uri": "https://localhost:8080/"
        },
        "id": "lKVT70-3xseP",
        "outputId": "686ead30-beb0-4e15-b75f-ef1ca5a63abf"
      },
      "execution_count": 6,
      "outputs": [
        {
          "output_type": "stream",
          "name": "stdout",
          "text": [
            "HELLO\n"
          ]
        }
      ]
    },
    {
      "cell_type": "code",
      "source": [
        "#5.Write a code to replace the word \"apple\" with \"orange\" in the string \"I like apple\"\n",
        "text = \"I like apple\"\n",
        "upd_text = text.replace(\"apple\", \"orange\")\n",
        "print(upd_text)"
      ],
      "metadata": {
        "colab": {
          "base_uri": "https://localhost:8080/"
        },
        "id": "F3zTYvDUx6f9",
        "outputId": "839fa597-f64c-4b57-8def-c9c135757ab3"
      },
      "execution_count": 8,
      "outputs": [
        {
          "output_type": "stream",
          "name": "stdout",
          "text": [
            "I like orange\n"
          ]
        }
      ]
    },
    {
      "cell_type": "code",
      "source": [
        "#6.Write a code to create a list with numbers 1 to 5 and print it\n",
        "numbers = [1, 2, 3, 4, 5]\n",
        "print(numbers)\n"
      ],
      "metadata": {
        "colab": {
          "base_uri": "https://localhost:8080/"
        },
        "id": "i6P3JpKayI7k",
        "outputId": "95fb5d27-70f7-4204-b911-f71677c7c183"
      },
      "execution_count": 9,
      "outputs": [
        {
          "output_type": "stream",
          "name": "stdout",
          "text": [
            "[1, 2, 3, 4, 5]\n"
          ]
        }
      ]
    },
    {
      "cell_type": "code",
      "source": [
        "#7.Write a code to append the number 10 to the list [1, 2, 3, 4]\n",
        "numbers = [1, 2, 3, 4]\n",
        "numbers.append(10)\n",
        "print(numbers)"
      ],
      "metadata": {
        "colab": {
          "base_uri": "https://localhost:8080/"
        },
        "id": "iVviHGmGykYw",
        "outputId": "d092a1b3-7d5f-4d97-ad67-e7765fbc2196"
      },
      "execution_count": 11,
      "outputs": [
        {
          "output_type": "stream",
          "name": "stdout",
          "text": [
            "[1, 2, 3, 4, 10]\n"
          ]
        }
      ]
    },
    {
      "cell_type": "code",
      "source": [
        "#8.Write a code to remove the number 3 from the list [1, 2, 3, 4, 5]\n",
        "numbers = [1, 2, 3, 4, 5]\n",
        "numbers.remove(3)\n",
        "print(numbers)"
      ],
      "metadata": {
        "colab": {
          "base_uri": "https://localhost:8080/"
        },
        "id": "IaOgPjCby4x1",
        "outputId": "e7dd81a1-038b-4f6f-a30a-d40bb7b3e36d"
      },
      "execution_count": 12,
      "outputs": [
        {
          "output_type": "stream",
          "name": "stdout",
          "text": [
            "[1, 2, 4, 5]\n"
          ]
        }
      ]
    },
    {
      "cell_type": "code",
      "source": [
        "#9.Write a code to access the second element in the list ['a', 'b', 'c', 'd']?\n",
        "letters = ['a', 'b', 'c', 'd']\n",
        "second_element = letters[1]\n",
        "print(second_element)"
      ],
      "metadata": {
        "colab": {
          "base_uri": "https://localhost:8080/"
        },
        "id": "UTl-hytBzIHj",
        "outputId": "8be1b1c7-36b1-4b7b-8a50-60d4eabf94bb"
      },
      "execution_count": 13,
      "outputs": [
        {
          "output_type": "stream",
          "name": "stdout",
          "text": [
            "b\n"
          ]
        }
      ]
    },
    {
      "cell_type": "code",
      "source": [
        "#10.Write a code to reverse the list [10, 20, 30, 40, 50].\n",
        "numbers = [10, 20, 30, 40, 50]\n",
        "reversed_numbers = numbers[::-1]\n",
        "print(reversed_numbers)"
      ],
      "metadata": {
        "colab": {
          "base_uri": "https://localhost:8080/"
        },
        "id": "-338NGAAzOMK",
        "outputId": "f33da22b-5493-4564-99d3-c73666821933"
      },
      "execution_count": 14,
      "outputs": [
        {
          "output_type": "stream",
          "name": "stdout",
          "text": [
            "[50, 40, 30, 20, 10]\n"
          ]
        }
      ]
    },
    {
      "cell_type": "code",
      "source": [
        "#11.Write a code to create a tuple with the elements 10, 20, 30 and print it\n",
        "my_tuple = (10, 20, 30)\n",
        "print(my_tuple)"
      ],
      "metadata": {
        "colab": {
          "base_uri": "https://localhost:8080/"
        },
        "id": "7dtSaL4uzTX-",
        "outputId": "7797541d-ff32-4332-872c-2daf2a3716e7"
      },
      "execution_count": 15,
      "outputs": [
        {
          "output_type": "stream",
          "name": "stdout",
          "text": [
            "(10, 20, 30)\n"
          ]
        }
      ]
    },
    {
      "cell_type": "code",
      "source": [
        "#12.Write a code to access the first element of the tuple ('apple', 'banana', 'cherry')?\n",
        "my_tuple = ('apple', 'banana', 'cherry')\n",
        "first_element = my_tuple[0]\n",
        "print(first_element)"
      ],
      "metadata": {
        "colab": {
          "base_uri": "https://localhost:8080/"
        },
        "id": "VfAKV8HezeKy",
        "outputId": "9e4dfe72-c262-4b4c-c9fd-9289209f2ab3"
      },
      "execution_count": 16,
      "outputs": [
        {
          "output_type": "stream",
          "name": "stdout",
          "text": [
            "apple\n"
          ]
        }
      ]
    },
    {
      "cell_type": "code",
      "source": [
        "#13.Write a code to count how many times the number 2 appears in the tuple (1, 2, 3, 2, 4, 2)\n",
        "my_tuple = (1, 2, 3, 2, 4, 2)\n",
        "count = my_tuple.count(2)\n",
        "print(count)"
      ],
      "metadata": {
        "colab": {
          "base_uri": "https://localhost:8080/"
        },
        "id": "M-jyR6Nrzk_N",
        "outputId": "c193cee0-834e-4443-b8f8-fc69a44f3ec9"
      },
      "execution_count": 17,
      "outputs": [
        {
          "output_type": "stream",
          "name": "stdout",
          "text": [
            "3\n"
          ]
        }
      ]
    },
    {
      "cell_type": "code",
      "source": [
        "#14.Write a code to find the index of the element \"cat\" in the tuple ('dog', 'cat', 'rabbit').\n",
        "my_tuple = ('dog', 'cat', 'rabbit')\n",
        "index = my_tuple.index('cat')\n",
        "print(index)"
      ],
      "metadata": {
        "colab": {
          "base_uri": "https://localhost:8080/"
        },
        "id": "zjAkJmLrztms",
        "outputId": "28ba3af1-761c-4a05-fcd2-477235967ef4"
      },
      "execution_count": 18,
      "outputs": [
        {
          "output_type": "stream",
          "name": "stdout",
          "text": [
            "1\n"
          ]
        }
      ]
    },
    {
      "cell_type": "code",
      "source": [
        "#15.Write a code to check if the element \"banana\" is in the tuple ('apple', 'orange', 'banana').\n",
        "my_tuple = ('apple', 'orange', 'banana')\n",
        "is_banana_in_tuple = 'banana' in my_tuple\n",
        "print(is_banana_in_tuple)"
      ],
      "metadata": {
        "colab": {
          "base_uri": "https://localhost:8080/"
        },
        "id": "wVEneh0wzyJU",
        "outputId": "f73674fe-7a82-44fa-aec0-e92ee29054c0"
      },
      "execution_count": 19,
      "outputs": [
        {
          "output_type": "stream",
          "name": "stdout",
          "text": [
            "True\n"
          ]
        }
      ]
    },
    {
      "cell_type": "code",
      "source": [
        "#16.Write a code to create a set with the elements 1, 2, 3, 4, 5 and print it.\n",
        "my_set = {1, 2, 3, 4, 5}\n",
        "print(my_set)"
      ],
      "metadata": {
        "colab": {
          "base_uri": "https://localhost:8080/"
        },
        "id": "347ixd2Hz7Om",
        "outputId": "d77a2c81-04c4-416f-96c2-9dd65e66c603"
      },
      "execution_count": 20,
      "outputs": [
        {
          "output_type": "stream",
          "name": "stdout",
          "text": [
            "{1, 2, 3, 4, 5}\n"
          ]
        }
      ]
    },
    {
      "cell_type": "code",
      "source": [
        "#17.Write a code to add the element 6 to the set {1, 2, 3, 4}?\n",
        "my_set = {1, 2, 3, 4}\n",
        "my_set.add(6)\n",
        "print(my_set)"
      ],
      "metadata": {
        "colab": {
          "base_uri": "https://localhost:8080/"
        },
        "id": "RYJ7jUVU0BTr",
        "outputId": "1a8b5ee4-252e-47ee-e835-00418f9b30ca"
      },
      "execution_count": 21,
      "outputs": [
        {
          "output_type": "stream",
          "name": "stdout",
          "text": [
            "{1, 2, 3, 4, 6}\n"
          ]
        }
      ]
    },
    {
      "cell_type": "code",
      "source": [
        "#18.Write a code to create a tuple with the elements 10, 20, 30 and print it\n",
        "my_tuple = (10, 20, 30)\n",
        "print(my_tuple)"
      ],
      "metadata": {
        "colab": {
          "base_uri": "https://localhost:8080/"
        },
        "id": "YBuB1PDi0Hh5",
        "outputId": "18637bbb-0088-403d-84af-dd893ebb5415"
      },
      "execution_count": 22,
      "outputs": [
        {
          "output_type": "stream",
          "name": "stdout",
          "text": [
            "(10, 20, 30)\n"
          ]
        }
      ]
    },
    {
      "cell_type": "code",
      "source": [
        "#19.Write a code to access the first element of the tuple ('apple', 'banana', 'cherry').\n",
        "my_tuple = ('apple', 'banana', 'cherry')\n",
        "first_element = my_tuple[0]\n",
        "print(first_element)"
      ],
      "metadata": {
        "colab": {
          "base_uri": "https://localhost:8080/"
        },
        "id": "F-iqDoXh0PwY",
        "outputId": "cb7584bb-98e3-42b1-bfa2-968871713adc"
      },
      "execution_count": 23,
      "outputs": [
        {
          "output_type": "stream",
          "name": "stdout",
          "text": [
            "apple\n"
          ]
        }
      ]
    },
    {
      "cell_type": "code",
      "source": [
        "#20.Write a code to count how many times the number 2 appears in the tuple (1, 2, 3, 2, 4, 2)?\n",
        "my_tuple = (1, 2, 3, 2, 4, 2)\n",
        "count = my_tuple.count(2)\n",
        "print(count)"
      ],
      "metadata": {
        "colab": {
          "base_uri": "https://localhost:8080/"
        },
        "id": "J8N9VdTB0T55",
        "outputId": "3725b0f5-5f08-4bb9-c03b-0efd32a5d87f"
      },
      "execution_count": 24,
      "outputs": [
        {
          "output_type": "stream",
          "name": "stdout",
          "text": [
            "3\n"
          ]
        }
      ]
    },
    {
      "cell_type": "code",
      "source": [
        "#21.Write a code to find the index of the element \"cat\" in the tuple ('dog', 'cat', 'rabbit')\n",
        "my_tuple = ('dog', 'cat', 'rabbit')\n",
        "index = my_tuple.index('cat')\n",
        "print(index)"
      ],
      "metadata": {
        "colab": {
          "base_uri": "https://localhost:8080/"
        },
        "id": "zG90HL7a0Xg_",
        "outputId": "8d889e01-f8ab-4a39-fb99-0a573bebd502"
      },
      "execution_count": 25,
      "outputs": [
        {
          "output_type": "stream",
          "name": "stdout",
          "text": [
            "1\n"
          ]
        }
      ]
    },
    {
      "cell_type": "code",
      "source": [
        "#22.Write a code to check if the element \"banana\" is in the tuple ('apple', 'orange', 'banana').\n",
        "my_tuple = ('apple', 'orange', 'banana')\n",
        "is_banana_in_tuple = 'banana' in my_tuple\n",
        "print(is_banana_in_tuple)"
      ],
      "metadata": {
        "colab": {
          "base_uri": "https://localhost:8080/"
        },
        "id": "xbwbnGef0n9B",
        "outputId": "d9ea57d6-a0dc-4299-acae-9e47e3c1a604"
      },
      "execution_count": 26,
      "outputs": [
        {
          "output_type": "stream",
          "name": "stdout",
          "text": [
            "True\n"
          ]
        }
      ]
    },
    {
      "cell_type": "code",
      "source": [
        "#23.Write a code to create a set with the elements 1, 2, 3, 4, 5 and print it?\n",
        "my_set = {1, 2, 3, 4, 5}\n",
        "print(my_set)"
      ],
      "metadata": {
        "colab": {
          "base_uri": "https://localhost:8080/"
        },
        "id": "3OQUGuyo0sVE",
        "outputId": "7cfa0bad-18e6-42b1-ef51-2b365fd32504"
      },
      "execution_count": 27,
      "outputs": [
        {
          "output_type": "stream",
          "name": "stdout",
          "text": [
            "{1, 2, 3, 4, 5}\n"
          ]
        }
      ]
    },
    {
      "cell_type": "code",
      "source": [
        "# Write a code to add the element 6 to the set {1, 2, 3, 4}.\n",
        "my_set = {1, 2, 3, 4}\n",
        "my_set.add(6)\n",
        "print(my_set)"
      ],
      "metadata": {
        "colab": {
          "base_uri": "https://localhost:8080/"
        },
        "id": "C6lLzGo40xdz",
        "outputId": "e7dbf984-cc12-4ec6-9bff-72983880b828"
      },
      "execution_count": 28,
      "outputs": [
        {
          "output_type": "stream",
          "name": "stdout",
          "text": [
            "{1, 2, 3, 4, 6}\n"
          ]
        }
      ]
    }
  ]
}